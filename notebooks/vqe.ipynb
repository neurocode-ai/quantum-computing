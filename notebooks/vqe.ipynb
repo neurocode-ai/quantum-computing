{
 "cells": [
  {
   "cell_type": "markdown",
   "id": "a6ec8f4c",
   "metadata": {},
   "source": [
    "$$\\newcommand{\\ket}[1]{\\left|{#1}\\right\\rangle}$$\n",
    "$$\\newcommand{\\bra}[1]{\\left\\langle{#1}\\right|}$$\n",
    "$$\\newcommand{\\braket}[2]{\\left\\langle{#1}\\middle|{#2}\\right\\rangle}$$\n",
    "$$\\def\\lc{\\left\\lceil}$$\n",
    "$$\\def\\rc{\\right\\rceil}$$\n",
    "# Variational Quantum Eigensolver (VQE)\n",
    "\n",
    "Optimization is a universal problem. We aim to optimize just about anything in todays society. Often it comes down to combinatorial solutions, such as simply finding the combination of inputs which produce lowest risk, cost, or highest returns. If we can represent the input space to our optimization problem as a matrix, where the entries of the matrix represent the *energy* of the state, then we can efficiently measure the expectation values which optimize our solution.\n",
    "\n",
    "Formally, the Variational Quantum Eigensolver (VQE) is designed to solve problems that can be cast in the form of finding the ground-state energy $E_{GS}$ of a Hamiltonian $H$. The ground-state energy is precisely the smallest *eigenvalue* of the Hamiltonian representing the system,\n",
    "\n",
    "$$H\\ket{\\psi_{GS}} = E_{GS}\\ket{\\psi_{GS}}.$$\n",
    "\n",
    "The objective of the VQE is then to find the set of quantum operators that prepares the ground-state energy (minima) of a close approximation to some target observable. \n",
    "\n",
    "Ok, but what is a Hamiltonian matrix $H$? What is the *variational method* of quantum mechanics? And why does our system need to be represented as such? Lets go through some mathematical background so that we may understand the VQE.\n"
   ]
  },
  {
   "cell_type": "markdown",
   "id": "e8cd96dd",
   "metadata": {},
   "source": [
    "---\n",
    "An eigenvector $\\ket{\\psi_i}$ of a matrix $A$ is invariant under transformation by $A$ up to a scalar multiplicative constant (the eigenvalue $\\lambda_i$), meaning,\n",
    "\n",
    "$$A\\ket{\\psi_i} = \\lambda_i\\ket{\\psi_i}.$$\n",
    "\n",
    "In quantum mechanics, the Hamiltonian matrix $H$ corresponds to the sum of the energies of a system. The general form of the Hamiltonian is the simple case of \n",
    "\n",
    "$$H = \\sum_{i=1}^N \\hat{H}_i$$\n",
    "\n",
    "where $N$ is the number of considered particles. It can also be expressed by the Schrödinger equation, where it generates a time evolution of quantum states as follows\n",
    "\n",
    "$$H\\ket{\\psi(t)} = i\\hslash\\frac{\\partial}{\\partial t}\\ket{\\psi(t)}$$\n",
    "\n",
    "but this way of expressing it is not exactly interesting to us for now. However, if the matrix $H$ is equal to its own conjugate transpose,\n",
    "\n",
    "$$H=H^†,$$\n",
    "\n",
    "then it is referred to as being Hermitian. Furthermore, the *spectral theorem* state that any eigenvalue of the Hermitian matrix $H$ must be real, and as such, all eigenvalues of $H$ have the property that\n",
    "\n",
    "$$\\lambda_i=\\lambda_i^*.$$\n",
    "\n",
    "Since any measurable quantity must be real, Hermitian matrices are suitable for describing the Hamiltonian $H$ of a quantum system. \n"
   ]
  },
  {
   "cell_type": "markdown",
   "id": "7ce43560",
   "metadata": {},
   "source": [
    "---\n",
    "With the mathematical background presented, we now know that we can express the Hamiltonian $H$ representing our quantum system as\n",
    "\n",
    "$$H = \\sum_{i=1}^N \\lambda_i\\ket{\\psi_i}\\bra{\\psi_i}$$\n",
    "\n",
    "where each $\\lambda_i$ is the eigenvalue corresponding to the specific eigenvector $\\ket{\\psi_i}$. The expectation value of the observable $H$ on the quantum state $\\ket{\\psi}$ which we are seeking to optimize is given by\n",
    "\n",
    "$$⟨ H ⟩_\\psi \\equiv \\bra{\\psi}H\\ket{\\psi}.$$\n",
    "\n",
    "We know how to represent the Hamiltonian $H$ as a weighted sum of its eigenvectors, which becomes,\n",
    "$$⟨ H ⟩_\\psi = \\bra{\\psi}H\\ket{\\psi} = \\bra{\\psi}\\biggl(\\sum_{i=1}^N \\lambda_i\\ket{\\psi_i}\\bra{\\psi_i}\\biggr)\\ket{\\psi}$$\n",
    "\n",
    "$$ = \\sum_{i=1}^N \\lambda_i\\braket{\\psi}{\\psi_i}\\braket{\\psi_i}{\\psi}$$\n",
    "\n",
    "$$ = \\sum_{i=1}^N \\lambda_i|\\braket{\\psi_i}{\\psi}|^2.$$\n",
    "\n",
    "The last expression shows how the expectation value of an observable on the arbitrary state $\\psi$ can be expressed as a linear combination using the eigenvalues associated with the Hamiltonian $H$. Furthermore, we know that each of the weights in the linear combination is greater than or equal to $0$, since $|\\braket{\\psi_i}{\\psi}|^2\\geq0$. Thus it becomes clear that the following is true\n",
    "\n",
    "$$\\lambda_{\\text{min}} \\leq ⟨ H ⟩_\\psi = \\bra{\\psi}H\\ket{\\psi} =  \\sum_{i=1}^N \\lambda_i|\\braket{\\psi_i}{\\psi}|^2.$$\n",
    "\n",
    "This is known as the *variational method*. What this implies is that the expectation value of any wave function will **always** be at least the minimum eigenvalue associated with $H$.\n"
   ]
  },
  {
   "cell_type": "markdown",
   "id": "1fd425df",
   "metadata": {},
   "source": [
    "---\n",
    "When the Hamiltonian of the quantum system is described by the Hermitian $H$, then we know that the ground-state energy of that system $E_{GS}$ is precisely the smallest eigenvalue $\\lambda_{GS}$ associated with $H$.\n",
    "\n",
    "The VQE algorithm starts by selecting any wave function $\\ket{\\psi}$, called *ansatz*, as an initial guess for $\\ket{\\psi_{GS}}$. The expectation value $⟨ H ⟩_\\psi$ is then calculated, and the wave function $\\ket{\\psi}$ is iteratively updated such that we can get arbitrarily tight bounds on the real ground-state energy of the Hamiltonian $H$.\n",
    "\n",
    "A systematic approach to varying the ansatz is required to implement the variational method on a real quantum computer. VQE does so by parametrizing the quantum circuit with a fixed form $\\theta$. It is often represented by the linear transform with a unitary operator $U(\\theta)$.\n",
    "\n",
    "Iterative optimization over $\\ket{\\psi(\\theta)}$ aims to yield an expectation value \n",
    "\n",
    "$$\\bra{\\psi(\\theta)}H\\ket{\\psi(\\theta)} \\approx E_{GS} \\equiv \\lambda_{\\text{min}}$$\n",
    "\n",
    "where, ideally, $\\ket{\\psi(\\theta)}$ will be close to $\\ket{\\psi_{\\text{min}}}$. Furthermore, a fixed variational form with a polynomial number of parameters can only generate transformations to a polynomially sized subspace of all the states in the exponentially sized Hilbert space.\n",
    "\n",
    "It is worth emphasizing that the ability to generate an arbitrary state ensures that during the optimization process, the variational form does not limit the set of attainable states over which the expectation value of $H$ can be taken.\n"
   ]
  },
  {
   "cell_type": "markdown",
   "id": "11f57895",
   "metadata": {},
   "source": [
    "---\n",
    "The steps of the VQE algorithm are the following:\n",
    "\n",
    "1. Map the problem that you wish to solve to finding the ground-state energy of a Hamiltonian $H$, where $\\alpha_i$ are numerical coefficients and $\\hat{P}_i$ are Pauli strings representing Pauli operations, on the form,\n",
    "\n",
    "$$H = \\sum_{i=1}^N \\lambda_i\\ket{\\psi_i}\\bra{\\psi_i} = \\sum_{i=1}^N \\alpha_i\\hat{P}_i$$\n",
    "\n",
    "2. Prepare the *ansatz*, trial state $\\ket{\\psi(\\theta)}$, set by a collection of parameters $\\theta$.\n",
    "\n",
    "3. Measure expectation values of the Pauli strings in the Hamiltonian, i.e., measure \n",
    "\n",
    "$$E[\\psi(\\theta)]P_\\alpha\\psi(\\theta).$$\n",
    "\n",
    "4. Calculate the energy $E$ corresponding to the trial state, by summing up the results of the measurements in the preceding step, \n",
    "\n",
    "$$E=\\Sigma_\\alpha h_\\alpha E[\\psi(\\theta)]P_\\alpha\\psi(\\theta).$$\n",
    "\n",
    "5. Update the parameters $\\theta$ based on the result (and results in the preivous iterations).\n",
    "\n",
    "\n",
    "Steps 2 and 3 are run on a quantum computer, which handles the quantum states more efficiently than a classical computer. Steps 4 and 5 are done on a classical computer. The algorithm iteratively starts over from step 2 after step 5 and continues to iterate until some convergence criterion is met, indicating that the ground-state energy $E_{GS}$ has been found."
   ]
  },
  {
   "cell_type": "markdown",
   "id": "c06be818",
   "metadata": {},
   "source": [
    "---\n",
    "## Portfolio optimization\n",
    "\n",
    "We aim to solve the following mean-variance portfolio optimization problem for $n$ assets:\n",
    "\n",
    "$$\\begin{split}\\begin{aligned}\n",
    "\\min_{x \\in \\{0, 1\\}^n}  q x^T \\Sigma x - \\mu^T x\\\\\n",
    "\\text{subject to: } 1^T x = B\n",
    "\\end{aligned}\\end{split}$$\n",
    "\n",
    "where $x \\in \\{0, 1\\}^n$ denotes the vector of binary decision variables, $\\mu \\in \\mathbb{R}^n$ defines the expected returns for the assets, $\\Sigma \\in \\mathbb{R}^{n \\times n}$ specifies the covariances between the assets, $q > 0$ controls the risk appetite of the decision maker, and $B$ denotes the budget, i.e., the number of assets to be selected out of $n$.\n",
    "\n",
    "We assume the simplification that all assets have the same price (normalized to $1$), and the full budget $B$ has to be spent. The equality constraint $1^T x = B$ is mapped to the penalty term $(1^T x - B)^2$ which is scaled by a parameter and subtracted from the objective function. We map the resulting problem to a Hamiltonian $H$ whose ground-state energy corresponds to the optimal solution $\\ket{\\psi_{\\text{min}}}$."
   ]
  },
  {
   "cell_type": "code",
   "execution_count": 1,
   "id": "6d931ebe",
   "metadata": {},
   "outputs": [],
   "source": [
    "import numpy as np\n",
    "import matplotlib.pyplot as plt\n",
    "import datetime\n",
    "from qiskit import Aer\n",
    "from qiskit.algorithms import VQE, NumPyMinimumEigensolver\n",
    "from qiskit.algorithms.optimizers import COBYLA\n",
    "from qiskit.circuit.library import TwoLocal\n",
    "from qiskit.utils import QuantumInstance\n",
    "from qiskit.utils import algorithm_globals\n",
    "from qiskit_finance.applications.optimization import PortfolioOptimization\n",
    "from qiskit_finance.data_providers import RandomDataProvider\n",
    "from qiskit_optimization.algorithms import MinimumEigenOptimizer\n",
    "from qiskit_optimization.applications import OptimizationApplication\n",
    "from qiskit_optimization.converters import QuadraticProgramToQubo\n"
   ]
  },
  {
   "cell_type": "code",
   "execution_count": 2,
   "id": "38ef1585",
   "metadata": {},
   "outputs": [],
   "source": [
    "# Define the problem instance, set the number of assets/qubits.\n",
    "# The below link shows how one can extend this notebook to use\n",
    "# real financial data for portfolio optimization.\n",
    "# https://qiskit.org/documentation/finance/tutorials/11_time_series.html\n",
    "num_assets = 4\n",
    "seed = 1581958915\n",
    "\n",
    "# Generate the expected return and covariance matrix from time-series\n",
    "stocks = [(f'TICKER{i}') for i in range(num_assets)]\n",
    "data = RandomDataProvider(\n",
    "    tickers=stocks,\n",
    "    start=datetime.datetime(2016, 1, 1),\n",
    "    end=datetime.datetime(2016, 1, 30),\n",
    "    seed=seed,\n",
    ")\n",
    "data.run()\n",
    "\n",
    "mu = data.get_period_return_mean_vector()\n",
    "sigma = data.get_period_return_covariance_matrix()\n"
   ]
  },
  {
   "cell_type": "code",
   "execution_count": 3,
   "id": "0fae5598",
   "metadata": {},
   "outputs": [
    {
     "data": {
      "text/plain": [
       "<matplotlib.image.AxesImage at 0x2575657cac0>"
      ]
     },
     "metadata": {},
     "output_type": "display_data"
    },
    {
     "data": {
      "image/png": "[encoded data removed]",
      "text/plain": [
       "<Figure size 640x480 with 1 Axes>"
      ]
     },
     "metadata": {},
     "output_type": "display_data"
    }
   ],
   "source": [
    "display(plt.imshow(sigma, interpolation='nearest'))\n"
   ]
  },
  {
   "cell_type": "code",
   "execution_count": 4,
   "id": "f5dcc13f",
   "metadata": {},
   "outputs": [
    {
     "data": {
      "text/plain": [
       "<QuadraticProgram: minimize 7.033841470679481e-05*x_0^2 - 2.0946096283823185e-..., 4 variables, 1 constraints, 'Portfolio optimization'>"
      ]
     },
     "metadata": {},
     "output_type": "display_data"
    }
   ],
   "source": [
    "# Set the risk factor, budget, and penalty terms.\n",
    "q = 0.5\n",
    "B = num_assets // 2\n",
    "P = num_assets\n",
    "\n",
    "portfolio = PortfolioOptimization(\n",
    "    expected_returns=mu,\n",
    "    covariances=sigma,\n",
    "    risk_factor=q,\n",
    "    budget=B\n",
    ")\n",
    "qp = portfolio.to_quadratic_program()\n",
    "display(qp)\n"
   ]
  },
  {
   "cell_type": "code",
   "execution_count": 8,
   "id": "e03847f5",
   "metadata": {},
   "outputs": [],
   "source": [
    "# Define some utility functions for prettier printing.\n",
    "\n",
    "def index_to_selection(i, n):\n",
    "    s = '{0:b}'.format(i).rjust(n)\n",
    "    x = np.array(\n",
    "        [1 if s[i] == '1' else 0 for i in reversed(range(n))]\n",
    "    )\n",
    "    return x\n",
    "\n",
    "def print_result(result, qp, n):\n",
    "    selection = result.x\n",
    "    value = result.fval\n",
    "    print(f'Optimal: selection {selection}, value {value:.4f}')\n",
    "    \n",
    "    eigenstate = result.min_eigen_solver_result.eigenstate\n",
    "    eigenvector = eigenstate\n",
    "    if not isinstance(eigenstate, np.ndarray):\n",
    "        eigenvector = eigenstate.to_matrix()\n",
    "    \n",
    "    probs = np.abs(eigenvector) ** 2\n",
    "    i_sorted = reversed(np.argsort(probs))\n",
    "    print(\"\\n----------------- Full result ---------------------\")\n",
    "    print(\"selection\\tvalue\\t\\tprobability\")\n",
    "    print(\"---------------------------------------------------\")\n",
    "    \n",
    "    for i in i_sorted:\n",
    "        x = index_to_selection(i, n)\n",
    "        value = QuadraticProgramToQubo().convert(qp).objective.evaluate(x)\n",
    "        prob = probs[i]\n",
    "        print(f'{x}\\t{value:.4f}\\t{prob:.6f}')\n",
    "    "
   ]
  },
  {
   "cell_type": "code",
   "execution_count": 9,
   "id": "f3cc617b",
   "metadata": {},
   "outputs": [
    {
     "name": "stdout",
     "output_type": "stream",
     "text": [
      "Optimal: selection [0. 1. 0. 1.], value -0.0072\n",
      "\n",
      "----------------- Full result ---------------------\n",
      "selection\tvalue\t\tprobability\n",
      "---------------------------------------------------\n",
      "[0 1 0 1]\t-0.0072\t1.000000\n",
      "[1 1 1 1]\t4.0328\t0.000000\n",
      "[0 1 1 1]\t1.0020\t0.000000\n",
      "[1 0 1 1]\t1.0064\t0.000000\n",
      "[0 0 1 1]\t-0.0035\t0.000000\n",
      "[1 1 0 1]\t1.0028\t0.000000\n",
      "[1 0 0 1]\t-0.0026\t0.000000\n",
      "[0 0 0 1]\t1.0083\t0.000000\n",
      "[1 1 1 0]\t1.0036\t0.000000\n",
      "[0 1 1 0]\t-0.0063\t0.000000\n",
      "[1 0 1 0]\t-0.0019\t0.000000\n",
      "[0 0 1 0]\t1.0091\t0.000000\n",
      "[1 1 0 0]\t-0.0055\t0.000000\n",
      "[0 1 0 0]\t1.0054\t0.000000\n",
      "[1 0 0 0]\t1.0101\t0.000000\n",
      "[0 0 0 0]\t4.0418\t0.000000\n"
     ]
    }
   ],
   "source": [
    "# Lets solve the problem, first classically.\n",
    "\n",
    "exact_mes = NumPyMinimumEigensolver()\n",
    "exact_eigensolver = MinimumEigenOptimizer(exact_mes)\n",
    "\n",
    "result = exact_eigensolver.solve(qp)\n",
    "\n",
    "print_result(result, qp, num_assets)\n"
   ]
  },
  {
   "cell_type": "code",
   "execution_count": 10,
   "id": "d6cd8919",
   "metadata": {},
   "outputs": [
    {
     "name": "stdout",
     "output_type": "stream",
     "text": [
      "Optimal: selection [0. 1. 0. 1.], value -0.0072\n",
      "\n",
      "----------------- Full result ---------------------\n",
      "selection\tvalue\t\tprobability\n",
      "---------------------------------------------------\n",
      "[1 0 1 0]\t-0.0019\t0.517614\n",
      "[0 1 0 1]\t-0.0072\t0.378536\n",
      "[1 0 0 1]\t-0.0026\t0.096380\n",
      "[0 1 1 0]\t-0.0063\t0.003440\n",
      "[1 1 0 0]\t-0.0055\t0.002076\n",
      "[0 0 1 1]\t-0.0035\t0.001693\n",
      "[0 1 0 0]\t1.0054\t0.000127\n",
      "[1 0 1 1]\t1.0064\t0.000091\n",
      "[1 0 0 0]\t1.0101\t0.000016\n",
      "[0 1 1 1]\t1.0020\t0.000009\n",
      "[1 1 1 1]\t4.0328\t0.000008\n",
      "[1 1 0 1]\t1.0028\t0.000006\n",
      "[0 0 0 1]\t1.0083\t0.000004\n",
      "[0 0 1 0]\t1.0091\t0.000001\n",
      "[1 1 1 0]\t1.0036\t0.000000\n",
      "[0 0 0 0]\t4.0418\t0.000000\n"
     ]
    }
   ],
   "source": [
    "# Now lets solve it using the Variational Quantum Eigensolver VQE.\n",
    "# We use the Constrained Optimization By Linear Approximation (COBYLA)\n",
    "# optimizer for the classical optimization of our parameters.\n",
    "\n",
    "algorithm_globals.random_seed = seed\n",
    "backend = Aer.get_backend('statevector_simulator')\n",
    "\n",
    "cobyla = COBYLA()\n",
    "cobyla.set_options(maxiter=250)\n",
    "ry = TwoLocal(num_assets, 'ry', 'cz', reps=3, entanglement='full')\n",
    "quantum_instance = QuantumInstance(\n",
    "    backend=backend,\n",
    "    seed_simulator=seed,\n",
    "    seed_transpiler=seed,\n",
    ")\n",
    "vqe_mes = VQE(\n",
    "    ry,\n",
    "    optimizer=cobyla,\n",
    "    quantum_instance=quantum_instance,\n",
    ")\n",
    "vqe = MinimumEigenOptimizer(vqe_mes)\n",
    "result = vqe.solve(qp)\n",
    "\n",
    "print_result(result, qp, num_assets)\n"
   ]
  },
  {
   "cell_type": "markdown",
   "id": "d9972626",
   "metadata": {},
   "source": [
    "## TODO, use real stock time-series data\n",
    "\n",
    "...\n"
   ]
  },
  {
   "cell_type": "code",
   "execution_count": null,
   "id": "a392e987",
   "metadata": {},
   "outputs": [],
   "source": []
  }
 ],
 "metadata": {
  "kernelspec": {
   "display_name": "Python 3 (ipykernel)",
   "language": "python",
   "name": "python3"
  },
  "language_info": {
   "codemirror_mode": {
    "name": "ipython",
    "version": 3
   },
   "file_extension": ".py",
   "mimetype": "text/x-python",
   "name": "python",
   "nbconvert_exporter": "python",
   "pygments_lexer": "ipython3",
   "version": "3.10.9"
  }
 },
 "nbformat": 4,
 "nbformat_minor": 5
}
