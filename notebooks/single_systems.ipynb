{
 "cells": [
  {
   "cell_type": "markdown",
   "id": "944428ef",
   "metadata": {},
   "source": [
    "# Single systems\n",
    "\n",
    "This notebook introduces the basic framework of *quantum information*, including the description of quantum states as vectors with complex number entries, measurements that allow classical information to be extracted from quantum states, and operations on quantum states that are described by unitary matrices.\n"
   ]
  },
  {
   "cell_type": "markdown",
   "id": "de795c80",
   "metadata": {},
   "source": [
    "## 1. Classical information\n",
    "\n",
    "To describe quantum information we will begin with an overview of *classical* information. \n"
   ]
  },
  {
   "cell_type": "markdown",
   "id": "03240d76",
   "metadata": {},
   "source": [
    "### 1.1 Classical states and probability vectors\n",
    "\n",
    "Suppose that we have a *system* that stores information. And let's assume that this system can be in one of a finite number of *classical states* at each instant. The simplest example which is at the foundation of information theory, is that of a *bit*, which is a system of classical states 0 and 1.\n",
    "\n",
    "Let us give the name $X$ to the system being considered, and let us denote $\\Sigma$ as the set of classical states of $X$. As well as the assumption that $\\Sigma$ is finite, we also have to assume that $\\Sigma$ is nonempty: it makes no sense for a system to have no states at all.\n",
    "\n",
    "For example, if $X$ is a bit, then $\\Sigma = \\{0, 1\\}$, or if $X$ is a regular die, then $\\Sigma = \\{1, 2, 3, 4, 5, 6\\}$.\n",
    "\n",
    "Often in information processing, the knowledge of $X$ is uncertain. We represent our knowledge of the classical state of $X$ by assigning probabilities to each classical state, resulting in a *probabilistic state*.\n",
    "\n",
    "For example, again assume $X$ is a bit. Based on what has happened preivously, we might believe that $X$ is in the classical state 0 three out of four times, and subsequently in the classical state 1 one out of four times. We can represent this belief by writing:<br><br>\n",
    "$Pr(X = 0) = \\frac{3}{4}$ and $Pr(X = 1) = \\frac{1}{4}$.\n",
    "\n",
    "But a more efficient way of representing this probabilistic state is by a column vector: $(\\frac{3}{4}, \\frac{1}{4})^T$\n",
    "\n",
    "We can represent any probabilistic state through a column vector statisfying two main properties:\n",
    "\n",
    "1. All entries of the vector are *nonnegative real numbers*.\n",
    "2. The sum of the entires is equal to 1.\n"
   ]
  },
  {
   "cell_type": "markdown",
   "id": "0e9d85df",
   "metadata": {},
   "source": [
    "### 1.2 Measuring probabilistic states\n",
    "\n",
    "Now we have to consider what happens if we were to *measure* a system when it is in a probabilistic state. By measuring a system, we mean that we look at the system and unambigiously recognize the classical state it is in. Intuitively, we can never \"see\" a system in a probabilistic state; a measurement yields exactly one of the allowed classical states.\n"
   ]
  },
  {
   "cell_type": "code",
   "execution_count": null,
   "id": "ad9d9309",
   "metadata": {},
   "outputs": [],
   "source": []
  }
 ],
 "metadata": {
  "kernelspec": {
   "display_name": "Python 3 (ipykernel)",
   "language": "python",
   "name": "python3"
  },
  "language_info": {
   "codemirror_mode": {
    "name": "ipython",
    "version": 3
   },
   "file_extension": ".py",
   "mimetype": "text/x-python",
   "name": "python",
   "nbconvert_exporter": "python",
   "pygments_lexer": "ipython3",
   "version": "3.10.6"
  }
 },
 "nbformat": 4,
 "nbformat_minor": 5
}
