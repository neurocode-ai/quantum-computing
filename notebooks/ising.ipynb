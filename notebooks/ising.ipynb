{
 "cells": [
  {
   "cell_type": "markdown",
   "id": "6d9efb9b",
   "metadata": {},
   "source": [
    "$$\\newcommand{\\ket}[1]{\\left|{#1}\\right\\rangle}$$\n",
    "$$\\newcommand{\\bra}[1]{\\left\\langle{#1}\\right|}$$\n",
    "$$\\newcommand{\\braket}[2]{\\left\\langle{#1}\\middle|{#2}\\right\\rangle}$$\n",
    "$$\\def\\lc{\\left\\lceil}$$\n",
    "$$\\def\\rc{\\right\\rceil}$$\n",
    "# The Ising model\n",
    "\n",
    "The Lenz-Ising model consists of discrete variables that represent magnetic dipole moments of atomic \"spins\" that can be in one of the two states $(+1$ or $-1)$. The model is suitable to use for making a connection between computational hardness of a problem and how difficult it is to solve the corresponding physical system. \n",
    "\n",
    "Assume that you have two magnets fixed on the same axis with opposite poles adjacent, they will naturally anti-align. We can regard them as two binary variables $\\sigma_i$ and $\\sigma_j$, where we assign the value $+1$ to the variable if the north pole is facing up, and $-1$ otherwise. In the natural, optimal, configuration the product of the two binary variables become\n",
    "\n",
    "$$\\sigma_i\\sigma_j = -1.$$\n",
    "\n",
    "Let's regard this as the energy of the considered system, and specifically for this case, this is the lowest energy possible which we refer to as the *ground-state* energy $E_{GS}$. If we were to consider all possible states, *sites*, of the system and sum up their pair-wise energies, we would get the Hamiltonian $H$ of the system, as follows\n",
    "\n",
    "$$H = \\sum_{i,j}\\sigma_i\\sigma_j.$$\n",
    "\n",
    "Here we have assumed that one site $\\sigma_i$ only interacts with its two nearest neighbors, $\\{\\sigma_{i-1}, \\sigma_{i+1}\\}$. But in reality that is not the case. Consider a set $\\Gamma$ of sites, for any two adjacents sites $i,j\\in\\Gamma$ there is an *interaction* $J_{ij}$ and a site $j\\in\\Gamma$ has an *external magnetic field* $h_j$ interacting with it (which is a sum of the magnetic fields from all other sites). As such, the energy of the configuration of the system is given by the following complete function\n",
    "\n",
    "$$H = -\\sum_{i,j\\in\\Gamma}J_{ij}\\sigma_i\\sigma_j - \\mu\\sum_j h_j\\sigma_j$$\n",
    "\n",
    "where $\\mu$ is the magnetic moment (strength and orientation). The negative sign in front of the first summation comes from the fact that all magnetic interactions $J_{ij}$ would be negative if the spins are antiferromagnetic (they behave as one would expect from real magnets).\n",
    "\n",
    "But what if not all our spins behave like magnets? Then $J_{ij}$ can take both negative and positive values for different pairs. But nature will always strive for the lowest energy configuration.\n",
    "\n",
    "Let's do some coding, and see what we can learn practically."
   ]
  },
  {
   "cell_type": "markdown",
   "id": "7f5018cb",
   "metadata": {},
   "source": [
    "## Hamiltonian without external magnetic field $h_j$"
   ]
  },
  {
   "cell_type": "code",
   "execution_count": 36,
   "id": "fe30371f",
   "metadata": {},
   "outputs": [],
   "source": [
    "def energy_no_external(J, s):\n",
    "    return -sum(J_ij * s[i] * s[i + 1] for i, J_ij in enumerate(J))\n"
   ]
  },
  {
   "cell_type": "code",
   "execution_count": 37,
   "id": "98cba316",
   "metadata": {},
   "outputs": [
    {
     "name": "stdout",
     "output_type": "stream",
     "text": [
      "configuration(1, 1, 1)   \tenergy = -0.0\n",
      "configuration(1, 1, -1)   \tenergy = -2.0\n",
      "configuration(1, -1, 1)   \tenergy = -0.0\n",
      "configuration(1, -1, -1)   \tenergy = 2.0\n",
      "configuration(-1, 1, 1)   \tenergy = 2.0\n",
      "configuration(-1, 1, -1)   \tenergy = -0.0\n",
      "configuration(-1, -1, 1)   \tenergy = -2.0\n",
      "configuration(-1, -1, -1)   \tenergy = -0.0\n"
     ]
    }
   ],
   "source": [
    "import itertools\n",
    "\n",
    "J = [1.0, -1.0]\n",
    "\n",
    "for s in itertools.product(*[{+1, -1} for _ in range(len(J) + 1)]):\n",
    "    print(f'configuration{s}   \\tenergy = {energy_no_external(J, s)}')\n",
    "    "
   ]
  },
  {
   "cell_type": "markdown",
   "id": "b206df51",
   "metadata": {},
   "source": [
    "## Hamiltonian with external magnetic field $h_j$"
   ]
  },
  {
   "cell_type": "code",
   "execution_count": 34,
   "id": "df628acf",
   "metadata": {},
   "outputs": [],
   "source": [
    "def energy(J, h, mu, s):\n",
    "    adjacent_sum = sum(J_ij * s[i] * s[i + 1] for i, J_ij in enumerate(J))\n",
    "    external_field_sum = sum(h[i] * s[i] for i in h.keys())\n",
    "    return -adjacent_sum - mu * external_field_sum\n",
    "\n",
    "def exhaustive_search(J, h, mu):\n",
    "    for s in itertools.product(*[{+1, -1} for _ in range(len(J) + 1)]):\n",
    "        print(f'configuration {s}   \\tenergy = {energy(J, h, mu, s)}')\n"
   ]
  },
  {
   "cell_type": "code",
   "execution_count": 38,
   "id": "f9544175",
   "metadata": {},
   "outputs": [
    {
     "name": "stdout",
     "output_type": "stream",
     "text": [
      "configuration (1, 1, 1)   \tenergy = -5.0\n",
      "configuration (1, 1, -1)   \tenergy = -4.0\n",
      "configuration (1, -1, 1)   \tenergy = -1.0\n",
      "configuration (1, -1, -1)   \tenergy = 4.0\n",
      "configuration (-1, 1, 1)   \tenergy = 0.0\n",
      "configuration (-1, 1, -1)   \tenergy = 1.0\n",
      "configuration (-1, -1, 1)   \tenergy = 0.0\n",
      "configuration (-1, -1, -1)   \tenergy = 5.0\n"
     ]
    }
   ],
   "source": [
    "J = [1.0, -1.0]\n",
    "h = {0: 1.5, 1: 2, 2: 1.5}\n",
    "mu = 1.0\n",
    "\n",
    "exhaustive_search(J, h, mu)\n"
   ]
  },
  {
   "cell_type": "markdown",
   "id": "505fe530",
   "metadata": {},
   "source": [
    "We can see that depending on the external magnetic field $h_j$ and magnetic moment $\\mu$, we get quite different energies of our configurations. \n",
    "\n",
    "What we have explored is precisely the full description of the *classical Lenz-Ising model* where the Hamiltonian $H$ describes the energy of a considered system. In combinatorial optimization problems in computer science we are often interested in finding the configuration of a system which yields the lowest cost, risk, or energy. That is precisely what the Ising model can be considered as, however, the problem is often cast as a Quadratic Unconstrained Binary Optimization (QUBO) problem where the only difference is that the binary variables are on the form $\\sigma_i\\in\\{0, 1\\}$."
   ]
  },
  {
   "cell_type": "markdown",
   "id": "c0f1ceb2",
   "metadata": {},
   "source": [
    "## The transverse-field Ising model\n",
    "\n",
    "Above we went through the classical Lenz-Ising model, and we can write the same Hamiltonian as above but in quantum mechanical form by defining the *transverse-field Ising model*. Again we consider nearest neighbour interactions for the sites, but they are determined by the alignment or anti-algnment of spin projections along the $z$ axis, with the external magnetic field along the $x$ axis (perpendicular to the $z$ axis). \n",
    "\n",
    "Important to note is that the spin projections along the $x$ and $z$ axes are not commuting observable quantities and can thus not be observed simultaneously.\n",
    "\n",
    "We define the Hamiltonian of such a quantum system by the following formula,\n",
    "\n",
    "$$H = -J\\biggl( \\sum_{i,j\\in\\Gamma}Z_iZ_j + \\mu\\sum_jX_j\\biggr)$$\n",
    "\n",
    "where $i,j\\in\\Gamma$ determines the pairs of nearest neigbour sites, $X_i$ and $Z_i$ refer to the Pauli $X$ and $Z$ matrices respectivelly. $J$ is the prefactor with dimensions of energy and $\\mu$ is again the coupling coefficient determining the relative strength of the external field.\n"
   ]
  },
  {
   "cell_type": "code",
   "execution_count": 39,
   "id": "9c28ad91",
   "metadata": {},
   "outputs": [],
   "source": [
    "import numpy as np\n",
    "from qiskit import QuantumCircuit\n",
    "from qiskit import execute\n",
    "from qiskit import Aer\n",
    "np.set_printoptions(precision=3, suppress=True)\n"
   ]
  },
  {
   "cell_type": "code",
   "execution_count": 45,
   "id": "6441ccdb",
   "metadata": {},
   "outputs": [],
   "source": [
    "backend = Aer.get_backend('statevector_simulator')\n",
    "qc = QuantumCircuit(1, 1)\n"
   ]
  },
  {
   "cell_type": "code",
   "execution_count": 47,
   "id": "ca3215bc",
   "metadata": {},
   "outputs": [
    {
     "name": "stdout",
     "output_type": "stream",
     "text": [
      "Statevector([1.+0.j, 0.+0.j],\n",
      "            dims=(2,))\n"
     ]
    },
    {
     "data": {
      "text/latex": [
       "$$ |0\\rangle$$"
      ],
      "text/plain": [
       "<IPython.core.display.Latex object>"
      ]
     },
     "metadata": {},
     "output_type": "display_data"
    }
   ],
   "source": [
    "qc.z(0)\n",
    "\n",
    "job = execute(qc, backend)\n",
    "state = job.result().get_statevector(qc)\n",
    "\n",
    "display(state)\n",
    "display(state.draw('latex'))\n"
   ]
  },
  {
   "cell_type": "code",
   "execution_count": 48,
   "id": "5896c995",
   "metadata": {},
   "outputs": [
    {
     "name": "stdout",
     "output_type": "stream",
     "text": [
      "Statevector([ 0.+0.j, -1.-0.j],\n",
      "            dims=(2,))\n"
     ]
    },
    {
     "data": {
      "text/latex": [
       "$$- |1\\rangle$$"
      ],
      "text/plain": [
       "<IPython.core.display.Latex object>"
      ]
     },
     "metadata": {},
     "output_type": "display_data"
    }
   ],
   "source": [
    "qc = QuantumCircuit(1, 1)\n",
    "qc.x(0)\n",
    "qc.z(0)\n",
    "\n",
    "job = execute(qc, backend)\n",
    "state = job.result().get_statevector(qc)\n",
    "\n",
    "display(state)\n",
    "display(state.draw('latex'))\n"
   ]
  },
  {
   "cell_type": "code",
   "execution_count": 51,
   "id": "fc7d0f60",
   "metadata": {},
   "outputs": [],
   "source": [
    "def expectation(state, H):\n",
    "    return float(np.dot(state.T.conj(), np.dot(H, state)).real)\n"
   ]
  },
  {
   "cell_type": "code",
   "execution_count": 53,
   "id": "b7ac0978",
   "metadata": {},
   "outputs": [
    {
     "name": "stdout",
     "output_type": "stream",
     "text": [
      "expectation value = -2.0\n"
     ]
    }
   ],
   "source": [
    "Z = np.array(\n",
    "    [[1.0,  0.0],\n",
    "     [0.0, -1.0]],\n",
    ")\n",
    "IZ = np.kron(np.eye(2), Z)\n",
    "ZI = np.kron(Z, np.eye(2))\n",
    "ZZ = np.kron(Z, Z)\n",
    "H = -ZZ - 0.5 * (ZI + IZ)\n",
    "psi = np.kron([[1], [0]], [[1], [0]])\n",
    "print(f'expectation value = {expectation(psi, H)}')\n"
   ]
  },
  {
   "cell_type": "markdown",
   "id": "7ab78834",
   "metadata": {},
   "source": [
    "We can see that the above Hamiltonian commutes, which in terms mean **all** operators are commutative in the expression. In other words, nothing specifically quantum is going on.\n",
    "\n",
    "We need to add the term which does not commute, the Pauli $X$ gate. Let's verify this expectation.\n"
   ]
  },
  {
   "cell_type": "code",
   "execution_count": 54,
   "id": "571ba459",
   "metadata": {},
   "outputs": [],
   "source": [
    "qc = QuantumCircuit(1, 1)\n",
    "qc.x(0)\n",
    "qc.z(0)\n",
    "\n",
    "job = execute(qc, backend)\n",
    "s1 = job.result().get_statevector(qc)\n"
   ]
  },
  {
   "cell_type": "code",
   "execution_count": 56,
   "id": "ea53551b",
   "metadata": {},
   "outputs": [],
   "source": [
    "qc = QuantumCircuit(1, 1)\n",
    "qc.z(0)\n",
    "qc.x(0)\n",
    "\n",
    "job = execute(qc, backend)\n",
    "s2 = job.result().get_statevector(qc)\n"
   ]
  },
  {
   "cell_type": "code",
   "execution_count": 60,
   "id": "f55d982c",
   "metadata": {},
   "outputs": [
    {
     "name": "stdout",
     "output_type": "stream",
     "text": [
      "Statevector([ 0.+0.j, -1.-0.j],\n",
      "            dims=(2,))\n"
     ]
    },
    {
     "data": {
      "text/latex": [
       "$$- |1\\rangle$$"
      ],
      "text/plain": [
       "<IPython.core.display.Latex object>"
      ]
     },
     "metadata": {},
     "output_type": "display_data"
    },
    {
     "name": "stdout",
     "output_type": "stream",
     "text": [
      "Statevector([0.+0.j, 1.+0.j],\n",
      "            dims=(2,))\n"
     ]
    },
    {
     "data": {
      "text/latex": [
       "$$ |1\\rangle$$"
      ],
      "text/plain": [
       "<IPython.core.display.Latex object>"
      ]
     },
     "metadata": {},
     "output_type": "display_data"
    },
    {
     "name": "stdout",
     "output_type": "stream",
     "text": [
      "Pauli-X → Pauli-Z: Statevector([ 0.+0.j, -1.-0.j],\n",
      "            dims=(2,))\n",
      "Pauli-Z → Pauli-X: Statevector([0.+0.j, 1.+0.j],\n",
      "            dims=(2,))\n"
     ]
    }
   ],
   "source": [
    "display(s1)\n",
    "display(s1.draw('latex'))\n",
    "\n",
    "display(s2)\n",
    "display(s2.draw('latex'))\n",
    "\n",
    "print(f'Pauli-X → Pauli-Z: {s1}')\n",
    "print(f'Pauli-Z → Pauli-X: {s2}')\n"
   ]
  },
  {
   "cell_type": "markdown",
   "id": "4c7f52f6",
   "metadata": {},
   "source": [
    "Now we can see a clear difference in outcomes, since the two operators $X_j$ and $Z_j$ do not commute. You should check out the Quantum Approximate Optimization Algorithm (QAOA) notebook for a further deep-dive in Hamiltonians and ground-states of combinatorial systems.\n"
   ]
  },
  {
   "cell_type": "code",
   "execution_count": null,
   "id": "a619a7e6",
   "metadata": {},
   "outputs": [],
   "source": []
  }
 ],
 "metadata": {
  "kernelspec": {
   "display_name": "Python 3 (ipykernel)",
   "language": "python",
   "name": "python3"
  },
  "language_info": {
   "codemirror_mode": {
    "name": "ipython",
    "version": 3
   },
   "file_extension": ".py",
   "mimetype": "text/x-python",
   "name": "python",
   "nbconvert_exporter": "python",
   "pygments_lexer": "ipython3",
   "version": "3.10.9"
  }
 },
 "nbformat": 4,
 "nbformat_minor": 5
}
