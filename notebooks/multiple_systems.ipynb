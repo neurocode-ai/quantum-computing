{
 "cells": [
  {
   "cell_type": "markdown",
   "id": "ffc87d3c",
   "metadata": {},
   "source": [
    "$$\\newcommand{\\ket}[1]{\\left|{#1}\\right\\rangle}$$$$\\newcommand{\\bra}[1]{\\left\\langle{#1}\\right|}$$$$\\newcommand{\\braket}[2]{\\left\\langle{#1}\\middle|{#2}\\right\\rangle}$$\n",
    "# Multiple systems\n",
    "\n",
    "The focus of this notebook is on the basics of quantum information when there are *multiple* systems being considered. Such situations arise naturally in the context of information processing, both classical and quantum. Large information-carrying systems are often most easily constructed using collections of smaller systems, such as bits or qubits.\n",
    "\n",
    "A simple, yet critically important, idea to keep in mind is that we can always choose to view multiple systems *together* as if they form a single, compound system - to which the theory and discussions of the previous notebook on single systems apply.\n"
   ]
  },
  {
   "cell_type": "markdown",
   "id": "6b783f3b",
   "metadata": {},
   "source": [
    "---\n",
    "## 1. Combining classical systems\n",
    "\n",
    "As in the previous notebook, we will begin with a disussion on classical information. Once again, the probabilistic and quantum descriptions are mathematically similar, and recognizing how the mathematics work in the familiar setting of classical information is helpful in understanding why quantum information is described in the way that it is.\n"
   ]
  },
  {
   "cell_type": "markdown",
   "id": "365d56b3",
   "metadata": {},
   "source": [
    "### 1.1 Classical states via the Cartesian product\n",
    "\n",
    "We will start at a very basic level, with classical states of multiple systems. For simplicity, we will begin by disussing just two systems, and then generalize to more than two systems.\n",
    "\n",
    "To be precise, let us suppose that $X$ is a system whose classical state set is $\\Sigma$, and $Y$ is a second system having classical state set $\\Gamma$. As in the previous notebook, because we have reffered to these sets as *classical state sets*, our assumption is that $\\Sigma$ and $\\Gamma$ are both finite and nonempty. \n",
    "\n",
    "Now let's imagine that the two systems, $X$ and $Y$, are placed side-by-side, with $X$ on the left and $Y$ on the right. If we so choose, we can view these two systems as if they form a single system, which we can denote by $(X, Y)$ or $XY$ depending on our preference. \n",
    "\n",
    "A natural question to ask about this compound system $(X, Y)$ is: \"What are its classical states?\".\n",
    "\n",
    "The answer is that the set of classical states of $(X, Y)$ is the *Cartesian product* of $\\Sigma$ and $\\Gamma$, which is the set defined as\n",
    "$$\\Sigma \\times \\Gamma = \\{(a, b): a\\in\\Sigma \\text{   and   } b\\in\\Gamma\\}.$$\n",
    "\n",
    "The Cartesian product is precisely the mathematical notion that captures the idea of viewing an element of one set and an element of a second set together, as if they form a single element of a single set.\n",
    "\n",
    "In the case at hand, to say that $(X, Y)$ is in the classical state $(a, b)\\in\\Sigma\\times\\Gamma$ means that $X$ is in the classical state $a\\in\\Sigma$ and $Y$ is in the classical state $b\\in\\Gamma$.\n",
    "\n",
    "For more than two systems, the situation generalizes in a natural way. If we suppose that $X_1, ..., X_n$ are systems having classical state sets $\\Sigma_1, ..., \\Sigma_n$ respectively, for any postive integer $n$, the classical state set of the n-tuple $(X_1, ..., X_n)$ viewed as a single joint system, is the Cartesian product\n",
    "$$\\Sigma_1\\times\\dots\\times\\Sigma_n = \\{(a_1, ..., a_n): a_1\\in\\Sigma_1, ..., a_n\\in\\Sigma_n\\}.$$\n"
   ]
  },
  {
   "cell_type": "markdown",
   "id": "92eddddc",
   "metadata": {},
   "source": [
    "#### Representing states as strings\n",
    "\n",
    "It is often convenient to write a classical state $(a_1, ..., a_n)$ as a *string* $a_1\\dots a_n$ for the sake of brevity. Indeed, the notation of a string, is formalized in mathematical terms through Cartesian products. The term *alphabet* is commonly used to refer to sets of symbols used to form strings, but the mathematical definition of an alphabet is precisely the same as the definition of a classical state set: it is a finite and nonempty set.\n",
    "\n",
    "For example, suppose that $X_1,\\dots,X_{10}$ are bits, so that the classical state sets of the systems are all the same;\n",
    "$$\\Sigma_1 = \\Sigma_2 = \\dots = \\Sigma_{10} = \\{0, 1\\}.$$\n",
    "\n",
    "The set $\\{0, 1\\}$ is commonly referred to as the *binary alphabet*. There are then $2^{10} = 1024$ classical states of the joint system $X_1,\\dots,X_{10}$, which are the elements of the set\n",
    "$$\\Sigma_1\\times\\Sigma_2\\times\\dots\\times\\Sigma_{10}=\\{0, 1\\}^{10}.$$\n"
   ]
  },
  {
   "cell_type": "markdown",
   "id": "d2902650",
   "metadata": {},
   "source": [
    "### 1.2 Probabilistic states\n",
    "\n",
    "Recall form the previous notebook that a *probabilistic state* associates a probability with each classical state of a system. Thus, a probabilistic state of multiple systems - viewed collectively as if they form a single system - associates a probability with each element of the Cartiesian product of the classical state sets of the individual systems.\n",
    "\n",
    "For example, suppose that $X$ and $Y$ are both bits, so that their corresponding classical state sets are $\\Sigma=\\{0, 1\\}$ and $\\Gamma = \\{0, 1\\}$, respectively. Here is a valid probabilistic state of the pair $(X, Y)$:\n",
    "$$Pr((X, Y) = (0, 0)) = \\frac{1}{2}$$\n",
    "$$Pr((X, Y) = (0, 1)) = 0$$\n",
    "$$Pr((X, Y) = (1, 0)) = 0$$\n",
    "$$Pr((X, Y) = (1, 1)) = \\frac{1}{2}$$\n",
    "\n",
    "This probabilistic state is one in which both $X$ and $Y$ are random bits - each is 0 with probability $1/2$ and 1 with the same probability - but the classical states of the two bits always agree. This is an example of a *correlation* between these systems.\n"
   ]
  },
  {
   "cell_type": "markdown",
   "id": "73d2b7b4",
   "metadata": {},
   "source": [
    "#### Ordering Cartesian product state sets\n",
    "\n",
    "Probabilistic states of systems are represented by probability vectors.\n"
   ]
  },
  {
   "cell_type": "code",
   "execution_count": null,
   "id": "0421aeef",
   "metadata": {},
   "outputs": [],
   "source": []
  }
 ],
 "metadata": {
  "kernelspec": {
   "display_name": "Python 3 (ipykernel)",
   "language": "python",
   "name": "python3"
  },
  "language_info": {
   "codemirror_mode": {
    "name": "ipython",
    "version": 3
   },
   "file_extension": ".py",
   "mimetype": "text/x-python",
   "name": "python",
   "nbconvert_exporter": "python",
   "pygments_lexer": "ipython3",
   "version": "3.10.6"
  }
 },
 "nbformat": 4,
 "nbformat_minor": 5
}
