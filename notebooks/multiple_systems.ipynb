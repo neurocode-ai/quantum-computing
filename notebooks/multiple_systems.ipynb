{
 "cells": [
  {
   "cell_type": "markdown",
   "id": "ffc87d3c",
   "metadata": {},
   "source": [
    "$$\\newcommand{\\ket}[1]{\\left|{#1}\\right\\rangle}$$$$\\newcommand{\\bra}[1]{\\left\\langle{#1}\\right|}$$$$\\newcommand{\\braket}[2]{\\left\\langle{#1}\\middle|{#2}\\right\\rangle}$$\n",
    "# Multiple systems\n",
    "\n",
    "The focus of this notebook is on the basics of quantum information when there are *multiple* systems being considered. Such situations arise naturally in the context of information processing, both classical and quantum. Large information-carrying systems are often most easily constructed using collections of smaller systems, such as bits or qubits.\n",
    "\n",
    "A simple, yet critically important, idea to keep in mind is that we can always choose to view multiple systems *together* as if they form a single, compound system - to which the theory and discussions of the previous notebook on single systems apply.\n"
   ]
  },
  {
   "cell_type": "markdown",
   "id": "6b783f3b",
   "metadata": {},
   "source": [
    "---\n",
    "## 1. Combining classical systems\n",
    "\n",
    "As in the previous notebook, we will begin with a disussion on classical information. Once again, the probabilistic and quantum descriptions are mathematically similar, and recognizing how the mathematics work in the familiar setting of classical information is helpful in understanding why quantum information is described in the way that it is.\n"
   ]
  },
  {
   "cell_type": "markdown",
   "id": "365d56b3",
   "metadata": {},
   "source": [
    "### 1.1 Classical states via the Cartesian product\n",
    "\n",
    "We will start at a very basic level, with classical states of multiple systems. For simplicity, we will begin by disussing just two systems, and then generalize to more than two systems.\n",
    "\n",
    "To be precise, let us suppose that $X$ is a system whose classical state set is $\\Sigma$, and $Y$ is a second system having classical state set $\\Gamma$. As in the previous notebook, because we have reffered to these sets as *classical state sets*, our assumption is that $\\Sigma$ and $\\Gamma$ are both finite and nonempty. \n",
    "\n",
    "Now let's imagine that the two systems, $X$ and $Y$, are placed side-by-side, with $X$ on the left and $Y$ on the right. If we so choose, we can view these two systems as if they form a single system, which we can denote by $(X, Y)$ or $XY$ depending on our preference. \n",
    "\n",
    "A natural question to ask about this compound system $(X, Y)$ is: \"What are its classical states?\".\n",
    "\n",
    "The answer is that the set of classical states of $(X, Y)$ is the *Cartesian product* of $\\Sigma$ and $\\Gamma$, which is the set defined as\n",
    "$$\\Sigma \\times \\Gamma = \\{(a, b): a\\in\\Sigma \\text{   and   } b\\in\\Gamma\\}.$$\n",
    "\n",
    "The Cartesian product is precisely the mathematical notion that captures the idea of viewing an element of one set and an element of a second set together, as if they form a single element of a single set.\n",
    "\n",
    "In the case at hand, to say that $(X, Y)$ is in the classical state $(a, b)\\in\\Sigma\\times\\Gamma$ means that $X$ is in the classical state $a\\in\\Sigma$ and $Y$ is in the classical state $b\\in\\Gamma$.\n",
    "\n",
    "For more than two systems, the situation generalizes in a natural way. If we suppose that $X_1, ..., X_n$ are systems having classical state sets $\\Sigma_1, ..., \\Sigma_n$ respectively, for any postive integer $n$, the classical state set of the n-tuple $(X_1, ..., X_n)$ viewed as a single joint system, is the Cartesian product\n",
    "$$\\Sigma_1\\times\\dots\\times\\Sigma_n = \\{(a_1, ..., a_n): a_1\\in\\Sigma_1, ..., a_n\\in\\Sigma_n\\}.$$\n"
   ]
  },
  {
   "cell_type": "markdown",
   "id": "92eddddc",
   "metadata": {},
   "source": [
    "#### Representing states as strings\n",
    "\n",
    "It is often convenient to write a classical state $(a_1, ..., a_n)$ as a *string* $a_1\\dots a_n$ for the sake of brevity. Indeed, the notation of a string, is formalized in mathematical terms through Cartesian products. The term *alphabet* is commonly used to refer to sets of symbols used to form strings, but the mathematical definition of an alphabet is precisely the same as the definition of a classical state set: it is a finite and nonempty set.\n",
    "\n",
    "For example, suppose that $X_1,\\dots,X_{10}$ are bits, so that the classical state sets of the systems are all the same;\n",
    "$$\\Sigma_1 = \\Sigma_2 = \\dots = \\Sigma_{10} = \\{0, 1\\}.$$\n",
    "\n",
    "The set $\\{0, 1\\}$ is commonly referred to as the *binary alphabet*. There are then $2^{10} = 1024$ classical states of the joint system $X_1,\\dots,X_{10}$, which are the elements of the set\n",
    "$$\\Sigma_1\\times\\Sigma_2\\times\\dots\\times\\Sigma_{10}=\\{0, 1\\}^{10}.$$\n"
   ]
  },
  {
   "cell_type": "markdown",
   "id": "d2902650",
   "metadata": {},
   "source": [
    "### 1.2 Probabilistic states\n",
    "\n",
    "Recall form the previous notebook that a *probabilistic state* associates a probability with each classical state of a system. Thus, a probabilistic state of multiple systems - viewed collectively as if they form a single system - associates a probability with each element of the Cartiesian product of the classical state sets of the individual systems.\n",
    "\n",
    "For example, suppose that $X$ and $Y$ are both bits, so that their corresponding classical state sets are $\\Sigma=\\{0, 1\\}$ and $\\Gamma = \\{0, 1\\}$, respectively. Here is a valid probabilistic state of the pair $(X, Y)$:\n",
    "$$Pr((X, Y) = (0, 0)) = \\frac{1}{2}$$\n",
    "$$Pr((X, Y) = (0, 1)) = 0$$\n",
    "$$Pr((X, Y) = (1, 0)) = 0$$\n",
    "$$Pr((X, Y) = (1, 1)) = \\frac{1}{2}$$\n",
    "\n",
    "This probabilistic state is one in which both $X$ and $Y$ are random bits - each is 0 with probability $1/2$ and 1 with the same probability - but the classical states of the two bits always agree. This is an example of a *correlation* between these systems.\n"
   ]
  },
  {
   "cell_type": "markdown",
   "id": "73d2b7b4",
   "metadata": {},
   "source": [
    "#### Ordering Cartesian product state sets\n",
    "\n",
    "Probabilistic states of systems are represented by probability vectors. The same situation arises for multiple systems. To represent a probabilistic state of multiple systems as a Cartesian product, one must decide on an ordering of the product's elements. Assuming the individual classical state sets $\\Sigma, \\Gamma$ of systems $X, Y$ are already ordered, there is a simple convention for doing this: *alphabetical ordering*. \n",
    "\n",
    "For example, according to this convention, the Cartesian product of $\\{1, 2, 3\\}\\times\\{0, 1\\}$ is ordered like this:\n",
    "$$(1,0),(1,1),(2,0),(2,1),(3,0),(3,1).$$\n"
   ]
  },
  {
   "cell_type": "markdown",
   "id": "966c68d8",
   "metadata": {},
   "source": [
    "#### Independence of two systems\n",
    "\n",
    "A special type of probabilistic state of two systems is one in which the systems are *independent*. Intuitively speaking, two systems are independent if learning the classical state of either systems has no effect on the probabilities associated with the other. To define this notion, let us suppose once again that $X$ and $Y$ are systems having classical state sets $\\Sigma$ and $\\Gamma$ respectively. They are said to be *independent* if it is the case that\n",
    "$$Pr((X, Y) = (a, b)) = Pr(X = a)Pr(Y = b), \\forall a\\in\\Sigma, \\forall b\\in\\Gamma.$$\n",
    "\n",
    "To express this condition in terms of probability vectors, assume that the given probabilistic state of $(X, Y)$ is described by a probability vector, written in Dirac notation as\n",
    "$$\\sum_{(a,b)\\in\\Sigma\\times\\Gamma}p_{ab}\\ket{ab}.$$\n",
    "\n",
    "The above condition for independence is then equivalent to the existence of two probability vectors\n",
    "$$\\ket{\\phi} = \\sum_{a\\in\\Sigma}q_a\\ket{a} \\text{   and   } \\ket{\\psi} = \\sum_{b\\in\\Gamma}r_b\\ket{b},$$\n",
    "representing the probabilites associated with the classical states of $X$ and $Y$, respectively, such that\n",
    "$$p_{ab} = q_ar_b, \\forall a\\in\\Sigma, \\forall b\\in\\Gamma.$$\n",
    "\n",
    "For example, the probabilistic state of a pair of bits $(X, Y)$ represented by the vector\n",
    "$$\\frac{1}{6}\\ket{00} + \\frac{1}{12}\\ket{01} + \\frac{1}{2}\\ket{10} + \\frac{1}{4}\\ket{11}$$\n",
    "is one in which $X$ and $Y$ are independent, because the condition for independence is true for the following probability vectors\n",
    "$$\\ket{\\phi} = \\frac{1}{4}\\ket{0} + \\frac{3}{4}\\ket{1} \\text{   and   } \\ket{\\psi} = \\frac{2}{3}\\ket{0} + \\frac{1}{3}\\ket{1}.$$\n"
   ]
  },
  {
   "cell_type": "markdown",
   "id": "f62d1d89",
   "metadata": {},
   "source": [
    "#### Tensor products of vectors\n",
    "\n",
    "The condition of independence just described can be expressed more succintly through the notion of a *tensor product*. Given two vectors\n",
    "$$\\ket{\\phi} = \\sum_{a\\in\\Sigma}\\alpha_a\\ket{a} \\text{   and   } \\ket{\\psi} = \\sum_{b\\in\\Gamma}\\beta_b\\ket{b},$$\n",
    "the tensor product $\\ket{\\phi}\\otimes\\ket{\\psi}$ is a new vector over the joint state set $\\Sigma\\times\\Gamma$, defined as\n",
    "$$\\ket{\\phi}\\otimes\\ket{\\psi} = \\sum_{(a,b)\\in\\Sigma\\times\\Gamma}\\alpha_a\\beta_b\\ket{ab}.$$\n",
    "\n",
    "Equivalently, the vector $\\ket{\\pi} = \\ket{\\phi}\\otimes\\ket{\\psi}$ is defined by the equation\n",
    "$$\\braket{ab}{\\pi} = \\braket{a}{\\phi}\\braket{b}{\\psi}, \\forall a\\in\\Sigma, \\forall b\\in\\Gamma.$$\n",
    "\n",
    "When we use the alphabetic convention for ordering elements of Cartesian products, we obtain the following specification for the tensor product of two column vector\n",
    "$$\\begin{pmatrix}\\alpha_1\\\\\\vdots\\\\\\alpha_m\\end{pmatrix}\\otimes\\begin{pmatrix}\\beta_1\\\\\\vdots\\\\\\beta_k\\end{pmatrix}=\\begin{pmatrix}\\alpha_1\\beta_1\\\\\\vdots\\\\\\alpha_1\\beta_k\\\\\\alpha_2\\beta_1\\\\\\vdots\\\\\\alpha_2\\beta_k\\\\\\vdots\\\\\\alpha_m\\beta_1\\\\\\vdots\\\\\\alpha_m\\beta_k\\end{pmatrix}$$\n",
    "and as an important aside, we observer the following expression for tensor products of standard basis vectors\n",
    "$$\\ket{a}\\otimes\\ket{b} = \\ket{ab}.$$\n",
    "\n",
    "The tensor product of two vectors has the important property that it is *bilinear*, which means that it is linear in each of the two arguments separately, assuming the other argument is fixed. This can be expressed as\n",
    "\n",
    "1. Linearity in the first argument:\n",
    "$$(\\ket{\\phi_1}+\\ket{\\phi_2})\\otimes\\ket{\\psi} = \\ket{\\phi_1}\\otimes\\ket{\\psi} + \\ket{\\phi_2}\\otimes\\ket{\\psi}$$\n",
    "$$(\\alpha\\ket{\\phi})\\otimes\\ket{\\psi} = \\alpha(\\ket{\\phi}\\otimes\\ket{\\psi})$$\n",
    "\n",
    "2. Linearity in the second argument:\n",
    "$$\\ket{\\phi}\\otimes(\\ket{\\psi_1} + \\ket{\\psi_2}) = \\ket{\\phi}\\otimes\\ket{\\psi_1} + \\ket{\\phi}\\otimes\\ket{\\psi_2}$$\n",
    "$$\\ket{\\phi}\\otimes(\\alpha\\ket{\\psi}) = \\alpha(\\ket{\\phi}\\otimes\\ket{\\psi})$$\n"
   ]
  },
  {
   "cell_type": "markdown",
   "id": "6dfcf924",
   "metadata": {},
   "source": [
    "#### Independence and tensor product of three or more systems\n",
    "\n",
    "The notion of independence and tensor products generalize straightforwardly to three or more systems. If $X_1,...,X_n$ are systems having classical states $\\Sigma_1,...,\\Sigma_n$, respectively, then a probabilistic state of the combined system $(X_1,...,X_n)$ is a *product state* if the associated probability vectors takes the form\n",
    "$$\\ket{\\psi} = \\ket{\\phi_1}\\otimes\\dots\\otimes\\ket{\\phi_n}$$\n",
    "for probability vectors $\\ket{\\phi_1},...,\\ket{\\phi_n}$ describing the probabilistic states of $X_1,...,X_n$. The above vector is defined by the equation\n",
    "$$\\braket{a_1\\dots a_n}{\\psi} = \\braket{a_1}{\\phi_1}\\dots\\braket{a_n}{\\phi_n}$$\n",
    "being true for every $a_1\\in\\Sigma_1,...,a_n\\in\\Sigma_n$. A recursive way of defining the tensor product of three or more vectors is accordingly:\n",
    "$$\\ket{\\phi_1}\\otimes\\dots\\otimes\\ket{\\phi_n} = (\\ket{\\phi_1}\\otimes\\dots\\otimes\\ket{\\phi_{n-1}})\\otimes\\ket{\\phi_n}, n\\geq3.$$\n"
   ]
  },
  {
   "cell_type": "markdown",
   "id": "24ab3605",
   "metadata": {},
   "source": [
    "### 1.3 Measurements of probabilistic states\n",
    "\n",
    "Now let us move on to measurements of probabilistic states of multiple systems. By choosing to view multiple systems together as single systems, we immediately obtain a specification of how measurements must work for multiple systems - provided that *all* systems are measured.\n",
    "\n",
    "For example, if the probabilistic state of two bits $(X, Y)$ is described by the probability vector\n",
    "$$\\frac{1}{2}\\ket{00} + \\frac{1}{2}\\ket{11},$$\n",
    "then the outcome $00$ is obtained with probability $1/2$ and the outcome $11$ is also obtained with probability $1/2$. In each case we update the probability vector description of our knowledge accordingly, so that the probabilistic state becomes either $\\ket{00}$ or $\\ket{11}$, respectively. \n"
   ]
  },
  {
   "cell_type": "markdown",
   "id": "9d7eed0e",
   "metadata": {},
   "source": [
    "#### Partial measurements\n",
    "\n",
    "Suppose, however, that we choose not to measure *every* system, but instead we just measure some *proper subset* of the systems. This will result in a measurement outcome for each system that gets measured, and will also (in general) affect our knowledge of the remaining systems.\n",
    "\n",
    "Let us suppose that $X$ is a system having classical state set $\\Sigma$, that $Y$ is a system having classical state set $\\Gamma$, and the two systems together are in some probabilistic state. We will consider what happens when we just measure $X$ and do nothing to $Y$. \n",
    "\n",
    "First we know that the probability to observe a particular classical state $a\\in\\Sigma$ when just $X$ is measured must be consistent with the probabilities we would obtain under the assumption that $Y$ was also measured. That is, we must have\n",
    "$$Pr(X=a) = \\sum_{b\\in\\Gamma}Pr((X,Y)=(a,b)).$$\n",
    "\n",
    "This is the formula for the so-called *marginal* or *reduced* probabilistic state of $X$ alone. This formula makes sense at an intuitive levle; something very strange woul need to happen for it to be wrong. It would mean that the probabilities for $X$ measurements are influenced simply by whether or not $Y$ is also measured, irrespective of the outcome on $Y$. If $Y$ happened to be in a distant location, say, another galaxy, then that would allow for faster-than-light signaling, which we reject based on our understanding of physics. \n",
    "\n",
    "Given the assumption that only $X$ is measured and $Y$ is not, there may in general still exist uncertainty over the classical state of $Y$. For this reason, rather than updating our description of the probabilistic state of $(X, Y)$ to $\\ket{ab}$ for some selection of $a\\in\\Sigma$ and $b\\in\\Gamma$, we must update our description so that this uncertainty about $Y$ is properly reflected.\n",
    "\n",
    "The following *conditional probability* formula reflects this uncertainty,\n",
    "$$Pr(Y = b|X = a) = \\frac{Pr((X, Y) = (a, b))}{Pr(X = a)}.$$\n",
    "\n",
    "To express these formulas in terms of probability vectors, consider a probability vector $\\ket{\\psi}$ describing the joint state of $(X, Y)$,\n",
    "$$\\ket{\\psi} = \\sum_{(a,b)\\in\\Sigma\\times\\Gamma}p_{ab}\\ket{ab}.$$\n",
    "\n",
    "Measuring $X$ alone yields each possible outcome with probabilities\n",
    "$$Pr(X=a) = \\sum_{b\\in\\Gamma}p_{ab}.$$\n",
    "\n",
    "Thus, the vector representing the probabilistic state of $X$ alone (i.e, the reduced probabilistic state of $X$) is given by\n",
    "$$\\sum_{a\\in\\Sigma}\\biggl( \\sum_{c\\in\\Gamma}p_{ac} \\biggr)\\ket{a}$$.\n",
    "\n",
    "Having obtained a particular outcome $a\\in\\Sigma$ of the measurement of $X$, the probabilistic state of $Y$ is updated according to the formula for conditional probabilities, so that it is represented by the following probability vector:\n",
    "$$\\ket{\\pi_a} = \\frac{\\sum_{b\\in\\Gamma}p_{ab}\\ket{b}}{\\sum_{c\\in\\Gamma}p_{ac}}.$$\n",
    "\n",
    "For a specific example, suppose that the classical state set of $X$ is $\\Sigma=\\{0, 1\\}$, the classical state set of $Y$ is $\\Gamma=\\{1, 2, 3\\}$, and the probabilistic state of $(X, Y)$ is\n",
    "$$\\ket{\\psi} = \\frac{1}{2}\\ket{0,1} + \\frac{1}{12}\\ket{0,3} + \\frac{1}{12}\\ket{1,1} + \\frac{1}{6}\\ket{1,2} + \\frac{1}{6}\\ket{1,3}.$$\n",
    "\n",
    "Using the bilinearity of the tensor product, and specifically the fact that it is linear in the *second argument*, we may rewrite the vector $\\ket{\\psi}$ as follows:\n",
    "$$\\ket{\\psi} = \\ket{0}\\otimes\\biggl( \\frac{1}{2}\\ket{1} + \\frac{1}{12}\\ket{3} \\biggr) + \\ket{1}\\otimes\\biggl( \\frac{1}{12}\\ket{1} + \\frac{1}{6}\\ket{2} + \\frac{1}{6}\\ket{3} \\biggr).$$\n",
    "\n",
    "Having reorganized as such, the measurement outcomes become easy to analyze. The probabilities of the two outcomes are given by\n",
    "$$Pr(X=0) = \\frac{1}{2} + \\frac{1}{12} = \\frac{7}{12}$$\n",
    "$$Pr(X=1) = \\frac{1}{12} + \\frac{1}{6} + \\frac{1}{6} = \\frac{5}{12}.$$\n",
    "\n",
    "Moreover, the probabilistic state of $Y$, conditioned on each possible outcome, can also be quickly inferred by normalizing the vectors in parentheses, so that these vectors become probability vectors. That is, conditioned on $X$ being $0$, the probabilistic state of $Y$ becomes\n",
    "$$\\ket{\\pi_0} = \\frac{\\sum_{b\\in\\Gamma}p_{0,b}\\ket{b}}{\\sum_{c\\in\\Gamma}p_{0,c}} = \\frac{\\frac{1}{2}\\ket{1} + \\frac{1}{12}\\ket{3}}{\\frac{7}{12}} = \\frac{6}{7}\\ket{1} + \\frac{1}{7}\\ket{3},$$\n",
    "\n",
    "and conditioned on the measurement of $X$ being $1$, the probabilistic state of $Y$ becomes\n",
    "$$\\ket{\\pi_1} = \\frac{\\sum_{b\\in\\Gamma}p_{1,b}\\ket{b}}{\\sum_{c\\in\\Gamma}p_{1,c}} = \\frac{\\frac{1}{12}\\ket{1} + \\frac{1}{6}\\ket{2} + \\frac{1}{6}\\ket{3}}{\\frac{5}{12}} = \\frac{1}{5}\\ket{1} + \\frac{2}{5}\\ket{2} + \\frac{2}{5}\\ket{3}.$$\n"
   ]
  },
  {
   "cell_type": "markdown",
   "id": "13b74d03",
   "metadata": {},
   "source": [
    "### 1.4 Operations on probabilistic states\n",
    "\n",
    "To conclude this discussion of classical information for multiple systems, we will consider *operations* on multiple systems in probabilistic states. \n",
    "\n",
    "For example, suppose that $X$ and $Y$ are bits, and consider an operation with the following description.\n",
    "> If $X=1$, then perform a NOT operation on $Y$, otherwise do nothing.\n",
    "\n",
    "This is a deterministic operation known as a *controlled-NOT* operation, where $X$ is the *control* bit that determines whether or not the NOT operation should be applied to the target bit $Y$. Following is the matrix that represents this operation\n",
    "$$\\begin{pmatrix}1&0&0&0\\\\0&1&0&0\\\\0&0&0&1\\\\0&0&1&0\\end{pmatrix}.$$\n"
   ]
  },
  {
   "cell_type": "markdown",
   "id": "f866396b",
   "metadata": {},
   "source": [
    "#### Tensor products of matrices\n",
    "\n",
    "The tensor product $M\\otimes N$ of the matrices\n",
    "$$M = \\sum_{a,b\\in\\Sigma}\\alpha_{ab}\\ket{a}\\ket{b}$$\n",
    "and\n",
    "$$N = \\sum_{c,d\\in\\Gamma}\\beta_{cd}\\ket{c}\\ket{d}$$\n",
    "is the matrix\n",
    "$$M\\otimes N = \\sum_{a,b\\in\\Sigma}\\sum_{c,d\\in\\Gamma}\\alpha_{ab}\\beta_{cd}\\ket{ac}\\bra{bd}.$$\n",
    "\n",
    "Equivalently, $M$ and $N$ are defined by the equation\n",
    "$$\\bra{ac}M\\otimes N\\ket{bd} = \\bra{a}M\\ket{b}\\bra{c}N\\ket{d}$$\n",
    "being true for every selection of $a,b\\in\\Sigma$ and $c,d\\in\\Gamma$.\n",
    "\n",
    "Tensor products of three or more matrices are defined in an analogous way. If $M_1,...,M_n$ are matrices whose indices correspond to classical state sets $\\Sigma_1,...,\\Sigma_n$ then the tensor product $M_1\\otimes\\dots\\otimes M_n$ is defined by the condition that\n",
    "$$\\bra{a_1\\dots a_n}M_1\\otimes\\dots\\otimes M_n\\ket{b_1\\dots b_n} = \\bra{a_1}M_1\\ket{b_1}\\dots\\bra{a_n}M_n\\ket{b_n}$$\n",
    "for every choice of classical state set $a_1,b_1\\in\\Sigma_1,...,a_n,b_n\\in\\Sigma_n$.\n"
   ]
  },
  {
   "cell_type": "markdown",
   "id": "5cc56ced",
   "metadata": {},
   "source": [
    "## 2. Quantum information\n",
    "\n",
    "We are now prepared to move on to quantum information in the setting of multiple systems.\n"
   ]
  },
  {
   "cell_type": "markdown",
   "id": "df0238e5",
   "metadata": {},
   "source": [
    "### 2.1 Quantum states\n",
    "\n",
    "Multiple systems can, again, be viewed collectively as single, compound systems. Quantum states of multiple systems are represented by column vectors having complex number entries and Euclidean norm equal to $1$ - just like quantum states of single systems.\n",
    "\n",
    "For instance, if $X$ and $Y$ are qubits, then the classical state set of the pair of qubits $(X, Y)$, viewed collectively as a single system, is the Cartiesian product $\\{0, 1\\}\\times\\{0, 1\\}$.\n"
   ]
  },
  {
   "cell_type": "markdown",
   "id": "920f21fa",
   "metadata": {},
   "source": [
    "#### Tensor products of quantum state vectors\n",
    "\n",
    "Similar to what we have for probability vectors, tensor products of quantum state vectors are also quantum state vectors - and again they represent *independence* among systems.\n",
    "\n",
    "Beginning with the case of two systems, suppose that $\\ket{\\phi}$ is a quantum state vector of a system $X$ and $\\ket{\\psi}$ is a quantum state vector of a system $Y$. The tensor product $\\ket{\\phi}\\otimes\\ket{\\psi}$ is then a quantum state vector of the joint system $(X, Y)$. This is referred to as the *product state*.\n",
    "\n",
    "When a pair of system $(X, Y)$ is in a product state $\\ket{\\phi}\\otimes\\ket{\\psi}$, we may interpret this as meaning that $X$ is in the quantum state $\\ket{\\phi}$, $Y$ is in the quantum state $\\ket{\\psi}$, and the states of the two systems have nothing to do with one another.\n",
    "\n",
    "The fact that the tensor product vector $\\ket{\\phi}\\otimes\\ket{\\psi}$ is indeed quantum state vector is consistent with the Euclidean norm being *multiplicative* with respect to tensor products:\n",
    "$$\\begin{align}||\\ket{\\phi}\\otimes\\ket{\\psi}|| = \\sqrt{\\sum_{(a,b)\\in\\Sigma\\times\\Gamma}|\\braket{ab}{\\phi\\otimes\\psi}|^2} \\\\ = \\sqrt{\\sum_{a\\in\\Sigma}\\sum_{b\\in\\Gamma}|\\braket{a}{\\phi}\\braket{b}{\\psi}|^2} \\\\ = \\sqrt{\\biggl( \\sum_{a\\in\\Sigma}|\\braket{a}{\\phi}|^2 \\biggr)\\biggl( \\sum_{b\\in\\Gamma}|\\braket{b}{\\psi}|^2 \\biggr)} \\\\ = ||\\ket{\\phi}||||\\ket{\\psi}||\\end{align}$$\n",
    "\n",
    "Thus, because $\\ket{\\phi}$ and $\\ket{\\psi}$ are quantum state vectors, we have $|\\ket{\\phi}|=1$ and $|\\ket{\\psi}|=1$, and therefore $|\\ket{\\phi}\\otimes\\ket{\\psi}|=1$, so $\\ket{\\phi}\\otimes\\ket{\\psi}$ is also a quantum state vector.\n",
    "\n",
    "This discussion may be generalized to more than two systems. If $\\ket{\\psi_1},...,\\ket{\\psi_n}$ are quantum state vectors of systems $X_1,...,X_n$, then $\\ket{\\psi_1}\\otimes\\dots\\otimes\\ket{\\psi_n}$ is a quantum state vector representing a *product state* of the joint system $(X_1,...,X_n)$. Again, we know that this is a quantum state vector because\n",
    "$$ || \\ket{\\psi_1}\\otimes\\dots\\otimes\\ket{\\psi_n} || = ||\\ket{\\psi_1}||\\dots||\\ket{\\psi_n}|| = 1^n = 1 .$$\n"
   ]
  },
  {
   "cell_type": "code",
   "execution_count": null,
   "id": "87fd4550",
   "metadata": {},
   "outputs": [],
   "source": []
  }
 ],
 "metadata": {
  "kernelspec": {
   "display_name": "Python 3 (ipykernel)",
   "language": "python",
   "name": "python3"
  },
  "language_info": {
   "codemirror_mode": {
    "name": "ipython",
    "version": 3
   },
   "file_extension": ".py",
   "mimetype": "text/x-python",
   "name": "python",
   "nbconvert_exporter": "python",
   "pygments_lexer": "ipython3",
   "version": "3.11.1"
  }
 },
 "nbformat": 4,
 "nbformat_minor": 5
}
